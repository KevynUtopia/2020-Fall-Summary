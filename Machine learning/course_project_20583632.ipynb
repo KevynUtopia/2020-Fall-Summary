{
 "cells": [
  {
   "cell_type": "markdown",
   "metadata": {},
   "source": [
    "# Course project: A predictive model based on movie data\n",
    "## ZHANG Weiwen 20583632 wzhangbu@connect.ust.hk"
   ]
  },
  {
   "cell_type": "code",
   "execution_count": 2,
   "metadata": {},
   "outputs": [],
   "source": [
    "import numpy as np\n",
    "import pandas as pd\n",
    "import json\n",
    "import matplotlib.pyplot as plt\n",
    "import re\n",
    "\n",
    "from sklearn.preprocessing import MultiLabelBinarizer\n",
    "from sklearn.linear_model import LinearRegression\n",
    "from sklearn.linear_model import Ridge\n",
    "from sklearn.ensemble import GradientBoostingRegressor\n",
    "from collections import Counter"
   ]
  },
  {
   "cell_type": "markdown",
   "metadata": {},
   "source": [
    "# Data description: the movie data"
   ]
  },
  {
   "cell_type": "markdown",
   "metadata": {},
   "source": [
    "The movie data can be accessed via the file 'data_final.csv'. This dataset consists of 3376 movies with rich metadata including revenue, budget, genres, keywords, production companies, release date, cast, and crew."
   ]
  },
  {
   "cell_type": "code",
   "execution_count": 3,
   "metadata": {},
   "outputs": [
    {
     "data": {
      "text/html": [
       "<div>\n",
       "<style scoped>\n",
       "    .dataframe tbody tr th:only-of-type {\n",
       "        vertical-align: middle;\n",
       "    }\n",
       "\n",
       "    .dataframe tbody tr th {\n",
       "        vertical-align: top;\n",
       "    }\n",
       "\n",
       "    .dataframe thead th {\n",
       "        text-align: right;\n",
       "    }\n",
       "</style>\n",
       "<table border=\"1\" class=\"dataframe\">\n",
       "  <thead>\n",
       "    <tr style=\"text-align: right;\">\n",
       "      <th></th>\n",
       "      <th>revenue</th>\n",
       "      <th>budget</th>\n",
       "      <th>genres</th>\n",
       "      <th>keywords</th>\n",
       "      <th>production_companies</th>\n",
       "      <th>release_date</th>\n",
       "      <th>cast</th>\n",
       "      <th>crew</th>\n",
       "    </tr>\n",
       "  </thead>\n",
       "  <tbody>\n",
       "    <tr>\n",
       "      <th>0</th>\n",
       "      <td>2787965087</td>\n",
       "      <td>237000000</td>\n",
       "      <td>[{\"id\": 28, \"name\": \"Action\"}, {\"id\": 12, \"nam...</td>\n",
       "      <td>[{\"id\": 1463, \"name\": \"culture clash\"}, {\"id\":...</td>\n",
       "      <td>[{\"name\": \"Ingenious Film Partners\", \"id\": 289...</td>\n",
       "      <td>2009-12-10</td>\n",
       "      <td>[{\"cast_id\": 242, \"character\": \"Jake Sully\", \"...</td>\n",
       "      <td>[{\"credit_id\": \"52fe48009251416c750aca23\", \"de...</td>\n",
       "    </tr>\n",
       "    <tr>\n",
       "      <th>1</th>\n",
       "      <td>961000000</td>\n",
       "      <td>300000000</td>\n",
       "      <td>[{\"id\": 12, \"name\": \"Adventure\"}, {\"id\": 14, \"...</td>\n",
       "      <td>[{\"id\": 270, \"name\": \"ocean\"}, {\"id\": 726, \"na...</td>\n",
       "      <td>[{\"name\": \"Walt Disney Pictures\", \"id\": 2}, {\"...</td>\n",
       "      <td>2007-05-19</td>\n",
       "      <td>[{\"cast_id\": 4, \"character\": \"Captain Jack Spa...</td>\n",
       "      <td>[{\"credit_id\": \"52fe4232c3a36847f800b579\", \"de...</td>\n",
       "    </tr>\n",
       "    <tr>\n",
       "      <th>2</th>\n",
       "      <td>880674609</td>\n",
       "      <td>245000000</td>\n",
       "      <td>[{\"id\": 28, \"name\": \"Action\"}, {\"id\": 12, \"nam...</td>\n",
       "      <td>[{\"id\": 470, \"name\": \"spy\"}, {\"id\": 818, \"name...</td>\n",
       "      <td>[{\"name\": \"Columbia Pictures\", \"id\": 5}, {\"nam...</td>\n",
       "      <td>2015-10-26</td>\n",
       "      <td>[{\"cast_id\": 1, \"character\": \"James Bond\", \"cr...</td>\n",
       "      <td>[{\"credit_id\": \"54805967c3a36829b5002c41\", \"de...</td>\n",
       "    </tr>\n",
       "    <tr>\n",
       "      <th>3</th>\n",
       "      <td>1084939099</td>\n",
       "      <td>250000000</td>\n",
       "      <td>[{\"id\": 28, \"name\": \"Action\"}, {\"id\": 80, \"nam...</td>\n",
       "      <td>[{\"id\": 849, \"name\": \"dc comics\"}, {\"id\": 853,...</td>\n",
       "      <td>[{\"name\": \"Legendary Pictures\", \"id\": 923}, {\"...</td>\n",
       "      <td>2012-07-16</td>\n",
       "      <td>[{\"cast_id\": 2, \"character\": \"Bruce Wayne / Ba...</td>\n",
       "      <td>[{\"credit_id\": \"52fe4781c3a36847f81398c3\", \"de...</td>\n",
       "    </tr>\n",
       "    <tr>\n",
       "      <th>4</th>\n",
       "      <td>284139100</td>\n",
       "      <td>260000000</td>\n",
       "      <td>[{\"id\": 28, \"name\": \"Action\"}, {\"id\": 12, \"nam...</td>\n",
       "      <td>[{\"id\": 818, \"name\": \"based on novel\"}, {\"id\":...</td>\n",
       "      <td>[{\"name\": \"Walt Disney Pictures\", \"id\": 2}]</td>\n",
       "      <td>2012-03-07</td>\n",
       "      <td>[{\"cast_id\": 5, \"character\": \"John Carter\", \"c...</td>\n",
       "      <td>[{\"credit_id\": \"52fe479ac3a36847f813eaa3\", \"de...</td>\n",
       "    </tr>\n",
       "  </tbody>\n",
       "</table>\n",
       "</div>"
      ],
      "text/plain": [
       "      revenue     budget                                             genres  \\\n",
       "0  2787965087  237000000  [{\"id\": 28, \"name\": \"Action\"}, {\"id\": 12, \"nam...   \n",
       "1   961000000  300000000  [{\"id\": 12, \"name\": \"Adventure\"}, {\"id\": 14, \"...   \n",
       "2   880674609  245000000  [{\"id\": 28, \"name\": \"Action\"}, {\"id\": 12, \"nam...   \n",
       "3  1084939099  250000000  [{\"id\": 28, \"name\": \"Action\"}, {\"id\": 80, \"nam...   \n",
       "4   284139100  260000000  [{\"id\": 28, \"name\": \"Action\"}, {\"id\": 12, \"nam...   \n",
       "\n",
       "                                            keywords  \\\n",
       "0  [{\"id\": 1463, \"name\": \"culture clash\"}, {\"id\":...   \n",
       "1  [{\"id\": 270, \"name\": \"ocean\"}, {\"id\": 726, \"na...   \n",
       "2  [{\"id\": 470, \"name\": \"spy\"}, {\"id\": 818, \"name...   \n",
       "3  [{\"id\": 849, \"name\": \"dc comics\"}, {\"id\": 853,...   \n",
       "4  [{\"id\": 818, \"name\": \"based on novel\"}, {\"id\":...   \n",
       "\n",
       "                                production_companies release_date  \\\n",
       "0  [{\"name\": \"Ingenious Film Partners\", \"id\": 289...   2009-12-10   \n",
       "1  [{\"name\": \"Walt Disney Pictures\", \"id\": 2}, {\"...   2007-05-19   \n",
       "2  [{\"name\": \"Columbia Pictures\", \"id\": 5}, {\"nam...   2015-10-26   \n",
       "3  [{\"name\": \"Legendary Pictures\", \"id\": 923}, {\"...   2012-07-16   \n",
       "4        [{\"name\": \"Walt Disney Pictures\", \"id\": 2}]   2012-03-07   \n",
       "\n",
       "                                                cast  \\\n",
       "0  [{\"cast_id\": 242, \"character\": \"Jake Sully\", \"...   \n",
       "1  [{\"cast_id\": 4, \"character\": \"Captain Jack Spa...   \n",
       "2  [{\"cast_id\": 1, \"character\": \"James Bond\", \"cr...   \n",
       "3  [{\"cast_id\": 2, \"character\": \"Bruce Wayne / Ba...   \n",
       "4  [{\"cast_id\": 5, \"character\": \"John Carter\", \"c...   \n",
       "\n",
       "                                                crew  \n",
       "0  [{\"credit_id\": \"52fe48009251416c750aca23\", \"de...  \n",
       "1  [{\"credit_id\": \"52fe4232c3a36847f800b579\", \"de...  \n",
       "2  [{\"credit_id\": \"54805967c3a36829b5002c41\", \"de...  \n",
       "3  [{\"credit_id\": \"52fe4781c3a36847f81398c3\", \"de...  \n",
       "4  [{\"credit_id\": \"52fe479ac3a36847f813eaa3\", \"de...  "
      ]
     },
     "execution_count": 3,
     "metadata": {},
     "output_type": "execute_result"
    }
   ],
   "source": [
    "X_removed = pd.read_csv('data_final.csv')  \n",
    "X_removed.head()"
   ]
  },
  {
   "cell_type": "markdown",
   "metadata": {},
   "source": [
    "# Task"
   ]
  },
  {
   "cell_type": "markdown",
   "metadata": {},
   "source": [
    "In this assignment, you are asked to fit a model to predict revenue in log-scale (y= log (revenue)) based on other information provided (you can use all of them or just a subset of them). Besides, you need to randomly partition the whole data set (3376 movies) into training set (3000 movies) and testing set (376 movies).\n",
    "\n",
    "The model can only be trained based on the training dataset. Then the performance of the prediction should be evaluated based on testing dataset via calculating the following prediction  R2 :\n",
    "1−∑ni=1(yi,true−yi,predict)2∑ni=1(yi,true−1n∑nj=1yi,true)2.\n",
    " \n",
    "Note that the best possible score is 1.0, and it can be negative. As an example, a constant model that always predicts the expected value of  y , disregarding the input features, would get a score of 0.0. Moreover, as the prediction of revenue should be performed in log-scale, both  ytrain  and  ytest  are logarithm of revenue."
   ]
  },
  {
   "cell_type": "markdown",
   "metadata": {},
   "source": [
    "# Requirements"
   ]
  },
  {
   "cell_type": "markdown",
   "metadata": {},
   "source": [
    "You must work independently on this assignment. Borrowing ideas from others will lead to a substantial reduction of your grading.\n",
    "You need to submit a report, in which you should clearly describe your method and explain your idea. The code should also be included. It takes up 30% in the grading of this course.\n",
    "You can use R or Python for coding. You are also allowed to call packages in R or Python to do this project as long as you understand the chosen method.\n",
    "Your report should be in the pdf format, which is automatically generated by either R markdown or Jupyter notebook.\n",
    "If you have any question, contact our TA, Cai Mingxuan, by email mcaiad@ust.hk."
   ]
  },
  {
   "cell_type": "markdown",
   "metadata": {},
   "source": [
    "# Introduction to the project and baseline models"
   ]
  },
  {
   "cell_type": "markdown",
   "metadata": {},
   "source": [
    "## The baseline model (linear regression, revenue ~ [1, budget])"
   ]
  },
  {
   "cell_type": "code",
   "execution_count": 4,
   "metadata": {},
   "outputs": [
    {
     "data": {
      "image/png": "[encoded data removed]",
      "text/plain": [
       "<Figure size 432x288 with 1 Axes>"
      ]
     },
     "metadata": {
      "needs_background": "light"
     },
     "output_type": "display_data"
    },
    {
     "data": {
      "image/png": "[encoded data removed]",
      "text/plain": [
       "<Figure size 432x288 with 1 Axes>"
      ]
     },
     "metadata": {
      "needs_background": "light"
     },
     "output_type": "display_data"
    },
    {
     "name": "stdout",
     "output_type": "stream",
     "text": [
      "The mean is 0.1985283576703422 and the standard deviation is 0.06352812210966392.\n"
     ]
    }
   ],
   "source": [
    "# get revenue (outcome)\n",
    "y_revenue_removed = np.log(X_removed['revenue'])\n",
    "# get budget\n",
    "X_budget_raw = X_removed['budget'].values.reshape(-1, 1)\n",
    "X_budget_raw = np.log(X_budget_raw + 1.0)\n",
    "\n",
    "plt.hist(X_budget_raw)\n",
    "\n",
    "# fit linear regression model\n",
    "score = [0 for i in range(100)]\n",
    "for i in range(100):\n",
    "    #seperate train and test dataset\n",
    "    movies_num = np.shape(X_budget_raw)[0]\n",
    "    order = np.arange(movies_num)\n",
    "    np.random.shuffle(order)\n",
    "    X_train = X_budget_raw[order][:3000]\n",
    "    X_test = X_budget_raw[order][3000:]\n",
    "    y_train = y_revenue_removed.values[order][:3000]\n",
    "    y_test = y_revenue_removed.values[order][3000:]\n",
    "    \n",
    "    #fit model and evalute\n",
    "    reg = LinearRegression()\n",
    "    reg.fit(X_train, y_train)\n",
    "    score[i] = reg.score(X_test, y_test)\n",
    "\n",
    "# visualize prediction score\n",
    "fig = plt.figure()  \n",
    "ax = plt.subplot()  \n",
    "ax.boxplot(score)\n",
    "ax.set_xticklabels(['prediction score from linear regression'])\n",
    "plt.show()\n",
    "print(\"The mean is {} and the standard deviation is {}.\".\\\n",
    "      format(np.mean(score), np.sqrt(np.var(score))))"
   ]
  },
  {
   "cell_type": "markdown",
   "metadata": {},
   "source": [
    "## Linear regression, revenue ~ [1, budget, budget_zero]"
   ]
  },
  {
   "cell_type": "markdown",
   "metadata": {},
   "source": [
    "budget_zero = 1, if budget = 0; budget_zero = 0, otherwise."
   ]
  },
  {
   "cell_type": "code",
   "execution_count": 157,
   "metadata": {},
   "outputs": [
    {
     "data": {
      "image/png": "[encoded data removed]",
      "text/plain": [
       "<Figure size 432x288 with 1 Axes>"
      ]
     },
     "metadata": {
      "needs_background": "light"
     },
     "output_type": "display_data"
    },
    {
     "data": {
      "image/png": "[encoded data removed]",
      "text/plain": [
       "<Figure size 432x288 with 1 Axes>"
      ]
     },
     "metadata": {
      "needs_background": "light"
     },
     "output_type": "display_data"
    },
    {
     "name": "stdout",
     "output_type": "stream",
     "text": [
      "The mean is 0.4020927710851477 and the standard deviation is 0.08186463423960141.\n"
     ]
    }
   ],
   "source": [
    "# get revenue (outcome)\n",
    "y_revenue_removed = np.log(X_removed['revenue'])\n",
    "# get budget\n",
    "X_budget_raw = X_removed['budget'].values.reshape(-1, 1)\n",
    "X_budget_raw = np.log(X_budget_raw + 1.0)\n",
    "X_removed['budget_zero'] = np.where(X_removed['budget'] == 0, 1, 0)\n",
    "X_budget_zero = X_removed['budget_zero'].values.reshape(-1, 1)\n",
    "plt.hist(X_budget_zero)\n",
    "# form feature matrix\n",
    "X_feature = np.concatenate((X_budget_raw, X_budget_zero), axis = 1)\n",
    "\n",
    "# fit linear regression model\n",
    "score = [0 for i in range(100)]\n",
    "for i in range(100):\n",
    "    #seperate train and test dataset\n",
    "    movies_num = np.shape(X_feature)[0]\n",
    "    order = np.arange(movies_num)\n",
    "    np.random.shuffle(order)\n",
    "    X_train = X_feature[order][:3000]\n",
    "    X_test = X_feature[order][3000:]\n",
    "    y_train = y_revenue_removed.values[order][:3000]\n",
    "    y_test = y_revenue_removed.values[order][3000:]\n",
    "    \n",
    "    #fit model and evalute\n",
    "    reg = LinearRegression()\n",
    "    reg.fit(X_train, y_train)\n",
    "    score[i] = reg.score(X_test, y_test)\n",
    "\n",
    "# visualize prediction score\n",
    "fig = plt.figure()  \n",
    "ax = plt.subplot()  \n",
    "ax.boxplot(score)\n",
    "ax.set_xticklabels(['prediction score from linear regression'])\n",
    "plt.show()\n",
    "print(\"The mean is {} and the standard deviation is {}.\".\\\n",
    "      format(np.mean(score), np.sqrt(np.var(score))))"
   ]
  },
  {
   "cell_type": "markdown",
   "metadata": {},
   "source": [
    "## Now expore the data"
   ]
  },
  {
   "cell_type": "markdown",
   "metadata": {},
   "source": [
    "Above are the base lines provided.\n",
    "In this report, I will do experiment with different linear model with different regression techniques. And I will traverse and dataset to explore more features that can polish our model and strengthen the performance."
   ]
  },
  {
   "cell_type": "markdown",
   "metadata": {},
   "source": [
    "# 1.  Gradienty Boosting Regression and Ridge Regression"
   ]
  },
  {
   "cell_type": "markdown",
   "metadata": {},
   "source": [
    "Above linear regressions were done by navie linea regressio model, now I try to improve the performance by apllying Gradienty Boosting Regression and Ridge Regression. And I illustrate the idea still through the regression on log_revenue~budget."
   ]
  },
  {
   "cell_type": "code",
   "execution_count": 158,
   "metadata": {},
   "outputs": [
    {
     "data": {
      "image/png": "[encoded data removed]",
      "text/plain": [
       "<Figure size 432x288 with 1 Axes>"
      ]
     },
     "metadata": {
      "needs_background": "light"
     },
     "output_type": "display_data"
    },
    {
     "name": "stdout",
     "output_type": "stream",
     "text": [
      "The mean is 0.3972361277499812 and the standard deviation is 0.08158926426890403.\n"
     ]
    },
    {
     "data": {
      "image/png": "[encoded data removed]",
      "text/plain": [
       "<Figure size 432x288 with 1 Axes>"
      ]
     },
     "metadata": {
      "needs_background": "light"
     },
     "output_type": "display_data"
    },
    {
     "name": "stdout",
     "output_type": "stream",
     "text": [
      "The mean is 0.1937969804830226 and the standard deviation is 0.0594984049173099.\n"
     ]
    }
   ],
   "source": [
    "# get revenue (outcome)\n",
    "y_revenue_removed = np.log(X_removed['revenue'])\n",
    "# get budget\n",
    "X_budget_raw = X_removed['budget'].values.reshape(-1, 1)\n",
    "X_budget_raw = np.log(X_budget_raw + 1.0)\n",
    "\n",
    "# initialize score array\n",
    "score = [0 for i in range(100)]\n",
    "score1 = [0 for i in range(100)]\n",
    "for i in range(100):\n",
    "    #seperate train and test dataset\n",
    "    movies_num = np.shape(X_budget_raw)[0]\n",
    "    order = np.arange(movies_num)\n",
    "    np.random.shuffle(order)\n",
    "    X_train = X_budget_raw[order][:3000]\n",
    "    X_test = X_budget_raw[order][3000:]\n",
    "    y_train = y_revenue_removed.values[order][:3000]\n",
    "    y_test = y_revenue_removed.values[order][3000:]\n",
    "    \n",
    "    #fit gradient boost model and evalute\n",
    "    reg = GradientBoostingRegressor(random_state=0)\n",
    "    reg.fit(X_train, y_train)\n",
    "    score[i] = reg.score(X_test, y_test)\n",
    "   \n",
    "    #fit ridge regression model and evalute\n",
    "    reg1 =  Ridge(alpha=1.0)\n",
    "    reg1.fit(X_train, y_train)\n",
    "    score1[i] = reg1.score(X_test, y_test)\n",
    "\n",
    "# visualize prediction score for gradient boosting\n",
    "fig = plt.figure()  \n",
    "ax = plt.subplot()  \n",
    "ax.boxplot(score)\n",
    "ax.set_xticklabels(['prediction score from linear regression with gradient boosting'])\n",
    "plt.show()\n",
    "print(\"The mean is {} and the standard deviation is {}.\".format(np.mean(score), \\\n",
    "                                                                np.sqrt(np.var(score))))\n",
    "\n",
    "# visualize prediction score for ridge regression\n",
    "fig = plt.figure()  \n",
    "ax = plt.subplot()  \n",
    "ax.boxplot(score1)\n",
    "ax.set_xticklabels(['prediction score from linear regression with gradient boosting'])\n",
    "plt.show()\n",
    "print(\"The mean is {} and the standard deviation is {}.\".format(np.mean(score1), \\\n",
    "                                                                np.sqrt(np.var(score1))))"
   ]
  },
  {
   "cell_type": "markdown",
   "metadata": {},
   "source": [
    "Above, gradient boosting and ridge scheme both improve the performance, but gradient boosting improves a lot and ridge only did a slight imrpovement."
   ]
  },
  {
   "cell_type": "markdown",
   "metadata": {},
   "source": [
    "## 1.1 Briefly Recall the Gradient Boosting and Ridge Regression"
   ]
  },
  {
   "cell_type": "markdown",
   "metadata": {},
   "source": [
    "When we are training the linear model, accurracy is alway what we concern. But overfitting may occur when we fit the model to training set excessively. Ridge Regression is implemented to deal with such overfitting with a regularizaion in form a a 2-norm on parameters of the linear model in loss funcion. By doing so, we can constrain the training from overfitting and prevent unexpect collapse of testing accuracy."
   ]
  },
  {
   "cell_type": "markdown",
   "metadata": {},
   "source": [
    "Here we implemented another idea is known as Gradient Boosting. Generally, Boosting algorithm is an optimization algorith in the way of iterating the model. At each iteration, it involves weak \"learners\" and iteratively improves the performance until we get a stronge \"learner\". Here in gradient boosing, the model is learned in the direction of the gradient descent."
   ]
  },
  {
   "cell_type": "markdown",
   "metadata": {},
   "source": [
    "## 1.2 Implement Gradient Boosting Regression and Ridge Regression on Revenue~Budget + Zero_Budget"
   ]
  },
  {
   "cell_type": "code",
   "execution_count": 159,
   "metadata": {},
   "outputs": [
    {
     "data": {
      "image/png": "[encoded data removed]",
      "text/plain": [
       "<Figure size 432x288 with 1 Axes>"
      ]
     },
     "metadata": {
      "needs_background": "light"
     },
     "output_type": "display_data"
    },
    {
     "name": "stdout",
     "output_type": "stream",
     "text": [
      "The mean is 0.408786388162826 and the standard deviation is 0.07708299182211453.\n"
     ]
    },
    {
     "data": {
      "image/png": "[encoded data removed]",
      "text/plain": [
       "<Figure size 432x288 with 1 Axes>"
      ]
     },
     "metadata": {
      "needs_background": "light"
     },
     "output_type": "display_data"
    },
    {
     "name": "stdout",
     "output_type": "stream",
     "text": [
      "The mean is 0.4067359845261337 and the standard deviation is 0.07768391822653872.\n"
     ]
    }
   ],
   "source": [
    "# get revenue (outcome)\n",
    "y_revenue_removed = np.log(X_removed['revenue'])\n",
    "# get budget\n",
    "X_budget_raw = X_removed['budget'].values.reshape(-1, 1)\n",
    "X_budget_raw = np.log(X_budget_raw + 1.0)\n",
    "X_removed['budget_zero'] = np.where(X_removed['budget'] == 0, 1, 0)\n",
    "X_budget_zero = X_removed['budget_zero'].values.reshape(-1, 1)\n",
    "\n",
    "# form feature matrix\n",
    "X_feature = np.concatenate((X_budget_raw, X_budget_zero), axis = 1)\n",
    "\n",
    "# fit linear regression model\n",
    "score = [0 for i in range(100)]\n",
    "score1 = [0 for i in range(100)]\n",
    "for i in range(100):\n",
    "    #seperate train and test dataset\n",
    "    movies_num = np.shape(X_feature)[0]\n",
    "    order = np.arange(movies_num)\n",
    "    np.random.shuffle(order)\n",
    "    X_train = X_feature[order][:3000]\n",
    "    X_test = X_feature[order][3000:]\n",
    "    y_train = y_revenue_removed.values[order][:3000]\n",
    "    y_test = y_revenue_removed.values[order][3000:]\n",
    "    \n",
    "    #fit model and evalute for gradient boosting\n",
    "    reg = GradientBoostingRegressor(random_state=0)\n",
    "    reg.fit(X_train, y_train)\n",
    "    score[i] = reg.score(X_test, y_test)\n",
    "    \n",
    "    #fit model and evalute for redge regression\n",
    "    reg1 =  Ridge(alpha=1.0)\n",
    "    reg1.fit(X_train, y_train)\n",
    "    score1[i] = reg1.score(X_test, y_test)\n",
    "\n",
    "# visualize prediction score\n",
    "fig = plt.figure()  \n",
    "ax = plt.subplot()  \n",
    "ax.boxplot(score)\n",
    "ax.set_xticklabels(['prediction score from linear regression'])\n",
    "plt.show()\n",
    "print(\"The mean is {} and the standard deviation is {}.\".format(np.mean(score), \\\n",
    "                                                                np.sqrt(np.var(score))))\n",
    "\n",
    "# visualize prediction score\n",
    "fig = plt.figure()  \n",
    "ax = plt.subplot()  \n",
    "ax.boxplot(score1)\n",
    "ax.set_xticklabels(['prediction score from linear regression with gradient boosting'])\n",
    "plt.show()\n",
    "print(\"The mean is {} and the standard deviation is {}.\".format(np.mean(score1), \\\n",
    "                                                                np.sqrt(np.var(score1))))"
   ]
  },
  {
   "cell_type": "markdown",
   "metadata": {},
   "source": [
    "I noticed that, ridge regression was greatly improved by invoving the Zero_Budget variable, this implies that zero budget may disturb the performance of ridge regression in previous training.\n",
    "And gradient boosting regression didn't vary too much, it implies that these zero numbers has little impact on gradient descent."
   ]
  },
  {
   "cell_type": "markdown",
   "metadata": {},
   "source": [
    "# 2. Explore more variables"
   ]
  },
  {
   "cell_type": "markdown",
   "metadata": {},
   "source": [
    "## 2.1 Movie release year"
   ]
  },
  {
   "cell_type": "markdown",
   "metadata": {},
   "source": [
    "Firstly, I preprocesss the dataset to extract the release years."
   ]
  },
  {
   "cell_type": "code",
   "execution_count": 160,
   "metadata": {},
   "outputs": [],
   "source": [
    "# Get the release date\n",
    "X_date = X_removed['release_date'].values.reshape(-1, 1)\n",
    "X_year = np.zeros_like(X_date)\n",
    "# X_month = np.zeros_like(X_date)\n",
    "# X_day = np.zeros_like(X_date)\n",
    "\n",
    "j=0\n",
    "for i in X_date:\n",
    "    X_year[j] = i[0][0:4]\n",
    "#     X_month[j] = i[0][5:7]\n",
    "#     X_day[j] = i[0][8:10]\n",
    "    j += 1"
   ]
  },
  {
   "cell_type": "code",
   "execution_count": 161,
   "metadata": {},
   "outputs": [
    {
     "data": {
      "image/png": "[encoded data removed]",
      "text/plain": [
       "<Figure size 432x288 with 1 Axes>"
      ]
     },
     "metadata": {
      "needs_background": "light"
     },
     "output_type": "display_data"
    }
   ],
   "source": [
    "year_plot = X_year.astype(np.float)\n",
    "mu = np.mean(year_plot)\n",
    "sigma = np.std(year_plot)\n",
    "num = len(year_plot)\n",
    "rand_data = np.random.normal(mu,sigma,num)\n",
    "count, bins, ignored = plt.hist(year_plot, 30, density=True)\n",
    "plt.plot(bins, 1/(sigma * np.sqrt(2 * np.pi)) \\\n",
    "         *np.exp( - (bins - mu)**2 / (2 * sigma**2)), linewidth=2, color='r')\n",
    "plt.show()"
   ]
  },
  {
   "cell_type": "markdown",
   "metadata": {},
   "source": [
    "This plot breifly tells about the distribution of data in time line. I notice that most movies were release in 2000~2020, and the peak appeared around 2000.\n",
    "This plot not only shows the distribution of variable - release year, but also illustrates the data situation of this dataset."
   ]
  },
  {
   "cell_type": "markdown",
   "metadata": {},
   "source": [
    "Then I fit the model by gradient boosting regression and ridge respectively"
   ]
  },
  {
   "cell_type": "code",
   "execution_count": 162,
   "metadata": {},
   "outputs": [],
   "source": [
    "# get revenue (outcome)\n",
    "y_revenue_removed = np.log(X_removed['revenue'])\n",
    "# get budget\n",
    "X_budget_raw = X_removed['budget'].values.reshape(-1, 1)\n",
    "X_budget_raw = np.log(X_budget_raw + 1.0)\n",
    "\n",
    "# form feature matrix\n",
    "X_feature = np.concatenate((X_budget_raw, X_year), axis = 1)\n",
    "\n",
    "# fit linear regression model\n",
    "score = [0 for i in range(100)]\n",
    "score1 = [0 for i in range(100)]\n",
    "for i in range(100):\n",
    "    #seperate train and test dataset\n",
    "    movies_num = np.shape(X_feature)[0]\n",
    "    order = np.arange(movies_num)\n",
    "    np.random.shuffle(order)\n",
    "    X_train = X_feature[order][:3000]\n",
    "    X_test = X_feature[order][3000:]\n",
    "    y_train = y_revenue_removed.values[order][:3000]\n",
    "    y_test = y_revenue_removed.values[order][3000:]\n",
    "    \n",
    "    #fit model and evalute\n",
    "    reg = GradientBoostingRegressor(random_state=0)\n",
    "    reg.fit(X_train, y_train)\n",
    "    score[i] = reg.score(X_test, y_test)\n",
    "    \n",
    "    #fit model and evalute for redge regression\n",
    "    reg1 =  Ridge(alpha=1.0)\n",
    "    reg1.fit(X_train, y_train)\n",
    "    score1[i] = reg1.score(X_test, y_test)"
   ]
  },
  {
   "cell_type": "code",
   "execution_count": 163,
   "metadata": {},
   "outputs": [
    {
     "data": {
      "image/png": "[encoded data removed]",
      "text/plain": [
       "<Figure size 432x288 with 1 Axes>"
      ]
     },
     "metadata": {
      "needs_background": "light"
     },
     "output_type": "display_data"
    },
    {
     "name": "stdout",
     "output_type": "stream",
     "text": [
      "The mean is 0.4408830188684859 and the standard deviation is 0.0834814597325866.\n"
     ]
    },
    {
     "data": {
      "image/png": "[encoded data removed]",
      "text/plain": [
       "<Figure size 432x288 with 1 Axes>"
      ]
     },
     "metadata": {
      "needs_background": "light"
     },
     "output_type": "display_data"
    },
    {
     "name": "stdout",
     "output_type": "stream",
     "text": [
      "The mean is 0.20276299782883492 and the standard deviation is 0.06156457631099858.\n"
     ]
    }
   ],
   "source": [
    "# visualize prediction score\n",
    "fig = plt.figure()  \n",
    "ax = plt.subplot()  \n",
    "ax.boxplot(score)\n",
    "ax.set_xticklabels(['prediction score from linear regression'])\n",
    "plt.show()\n",
    "print(\"The mean is {} and the standard deviation is {}.\".format(np.mean(score), \\\n",
    "                                                                np.sqrt(np.var(score))))\n",
    "\n",
    "\n",
    "# visualize prediction score\n",
    "fig = plt.figure()  \n",
    "ax = plt.subplot()  \n",
    "ax.boxplot(score1)\n",
    "ax.set_xticklabels(['prediction score from linear regression with gradient boosting'])\n",
    "plt.show()\n",
    "print(\"The mean is {} and the standard deviation is {}.\".format(np.mean(score1), \\\n",
    "                                                                np.sqrt(np.var(score1))))"
   ]
  },
  {
   "cell_type": "markdown",
   "metadata": {},
   "source": [
    "Result shows that gradient boosting performs much better than ridge, which can reach the score of approximately 0.44 (re-run for multiple times)"
   ]
  },
  {
   "cell_type": "code",
   "execution_count": 165,
   "metadata": {},
   "outputs": [
    {
     "data": {
      "image/png": "[encoded data removed]",
      "text/plain": [
       "<Figure size 432x288 with 1 Axes>"
      ]
     },
     "metadata": {
      "needs_background": "light"
     },
     "output_type": "display_data"
    }
   ],
   "source": [
    "mu = np.mean(score)\n",
    "sigma = np.std(score)\n",
    "num = len(score)\n",
    "rand_data = np.random.normal(mu,sigma,num)\n",
    "count, bins, ignored = plt.hist(score, 30, density=True)\n",
    "plt.plot(bins, 1/(sigma * np.sqrt(2 * np.pi)) \\\n",
    "         *np.exp( - (bins - mu)**2 / (2 * sigma**2)), linewidth=2, color='r')\n",
    "plt.show()"
   ]
  },
  {
   "cell_type": "code",
   "execution_count": 205,
   "metadata": {},
   "outputs": [
    {
     "data": {
      "image/png": "[encoded data removed]",
      "text/plain": [
       "<Figure size 432x288 with 1 Axes>"
      ]
     },
     "metadata": {
      "needs_background": "light"
     },
     "output_type": "display_data"
    },
    {
     "name": "stdout",
     "output_type": "stream",
     "text": [
      "The mean is 0.43095168032624237 and the standard deviation is 0.0743326445056811.\n"
     ]
    },
    {
     "data": {
      "image/png": "[encoded data removed]",
      "text/plain": [
       "<Figure size 432x288 with 1 Axes>"
      ]
     },
     "metadata": {
      "needs_background": "light"
     },
     "output_type": "display_data"
    },
    {
     "name": "stdout",
     "output_type": "stream",
     "text": [
      "The mean is 0.417310884274064 and the standard deviation is 0.08308132474236424.\n"
     ]
    }
   ],
   "source": [
    "# get revenue (outcome)\n",
    "y_revenue_removed = np.log(X_removed['revenue'])\n",
    "# get budget\n",
    "X_budget_raw = X_removed['budget'].values.reshape(-1, 1)\n",
    "X_budget_raw = np.log(X_budget_raw + 1.0)\n",
    "\n",
    "# form feature matrix\n",
    "X_feature = np.concatenate((X_budget_raw,X_budget_zero, X_year), axis = 1)\n",
    "\n",
    "# fit linear regression model\n",
    "score = [0 for i in range(100)]\n",
    "score1 = [0 for i in range(100)]\n",
    "for i in range(100):\n",
    "    #seperate train and test dataset\n",
    "    movies_num = np.shape(X_feature)[0]\n",
    "    order = np.arange(movies_num)\n",
    "    np.random.shuffle(order)\n",
    "    X_train = X_feature[order][:3000]\n",
    "    X_test = X_feature[order][3000:]\n",
    "    y_train = y_revenue_removed.values[order][:3000]\n",
    "    y_test = y_revenue_removed.values[order][3000:]\n",
    "    \n",
    "    #fit model and evalute\n",
    "    reg = GradientBoostingRegressor(random_state=0)\n",
    "    reg.fit(X_train, y_train)\n",
    "    score[i] = reg.score(X_test, y_test)\n",
    "    \n",
    "    #fit model and evalute for redge regression\n",
    "    reg1 =  Ridge(alpha=1.0)\n",
    "    reg1.fit(X_train, y_train)\n",
    "    score1[i] = reg1.score(X_test, y_test)\n",
    "    \n",
    "    # visualize prediction score\n",
    "fig = plt.figure()  \n",
    "ax = plt.subplot()  \n",
    "ax.boxplot(score)\n",
    "ax.set_xticklabels(['prediction score from linear regression'])\n",
    "plt.show()\n",
    "print(\"The mean is {} and the standard deviation is {}.\".format(np.mean(score), \\\n",
    "                                                                np.sqrt(np.var(score))))\n",
    "\n",
    "# visualize prediction score\n",
    "fig = plt.figure()  \n",
    "ax = plt.subplot()  \n",
    "ax.boxplot(score1)\n",
    "ax.set_xticklabels(['prediction score from linear regression with gradient boosting'])\n",
    "plt.show()\n",
    "print(\"The mean is {} and the standard deviation is {}.\".format(np.mean(score1), \\\n",
    "                                                                np.sqrt(np.var(score1))))"
   ]
  },
  {
   "cell_type": "code",
   "execution_count": 167,
   "metadata": {},
   "outputs": [
    {
     "data": {
      "image/png": "[encoded data removed]",
      "text/plain": [
       "<Figure size 432x288 with 1 Axes>"
      ]
     },
     "metadata": {
      "needs_background": "light"
     },
     "output_type": "display_data"
    }
   ],
   "source": [
    "mu = np.mean(score)\n",
    "sigma = np.std(score)\n",
    "num = len(score)\n",
    "rand_data = np.random.normal(mu,sigma,num)\n",
    "count, bins, ignored = plt.hist(score, 30, density=True)\n",
    "plt.plot(bins, 1/(sigma * np.sqrt(2 * np.pi)) \\\n",
    "         *np.exp( - (bins - mu)**2 / (2 * sigma**2)), linewidth=2, color='r')\n",
    "plt.show()"
   ]
  },
  {
   "cell_type": "markdown",
   "metadata": {},
   "source": [
    "This result also shows outstanding performance of gradient boosintg. And noticed that, again, ridge was improved a lot by imvolving 0 budgert indicators."
   ]
  },
  {
   "cell_type": "markdown",
   "metadata": {},
   "source": [
    "In this way, we are impressed by the performance of gradient boosting Log_regression in Revenue~Budget+Release_year. And next I will explore more possibilities with more variables in prediction."
   ]
  },
  {
   "cell_type": "markdown",
   "metadata": {},
   "source": [
    "## 2.2 Popular movie stars "
   ]
  },
  {
   "cell_type": "markdown",
   "metadata": {},
   "source": [
    "Next I can explore if the cast information can help with prediction: I find the most popular actors and set their attendance as a predictor "
   ]
  },
  {
   "cell_type": "markdown",
   "metadata": {},
   "source": [
    "Firstly, preprocess the data."
   ]
  },
  {
   "cell_type": "code",
   "execution_count": 168,
   "metadata": {},
   "outputs": [
    {
     "data": {
      "text/plain": [
       "(1,)"
      ]
     },
     "execution_count": 168,
     "metadata": {},
     "output_type": "execute_result"
    }
   ],
   "source": [
    "X_cast = X_removed['cast'].values.reshape(-1, 1)\n",
    "np.shape(X_cast[0])"
   ]
  },
  {
   "cell_type": "code",
   "execution_count": 169,
   "metadata": {},
   "outputs": [],
   "source": [
    "import re\n",
    "\n",
    "cast=[]\n",
    "# type(X_cast[0][0][names[0]+9:orders[0]])\n",
    "for j in range(X_cast.shape[0]):\n",
    "    names = [substr.start() for substr in re.finditer(\"\\\"name\\\": \\\"\", X_cast[j][0])]\n",
    "    orders = [substr.start() for substr in re.finditer(\"\\\", \\\"order\\\"\", X_cast[j][0])]\n",
    "    for i in range(len(names)):\n",
    "        names[i] = X_cast[j][0][names[i]+9:orders[i]]\n",
    "    cast.extend(names)\n",
    "# plt.hist(cast)"
   ]
  },
  {
   "cell_type": "code",
   "execution_count": 170,
   "metadata": {},
   "outputs": [
    {
     "data": {
      "text/plain": [
       "[('Samuel L. Jackson', 54), ('Robert De Niro', 49), ('Morgan Freeman', 45)]"
      ]
     },
     "execution_count": 170,
     "metadata": {},
     "output_type": "execute_result"
    }
   ],
   "source": [
    "from collections import Counter\n",
    "\n",
    "data = Counter(cast)\n",
    "# data.most_common(1)[0][0]\n",
    "data.most_common(3)"
   ]
  },
  {
   "cell_type": "markdown",
   "metadata": {},
   "source": [
    "Here, I find the top 3 actors act movies more that others. And they are Samuel L. Jackson, Robert De Niro, Morgan Freeman respectively.\n",
    "\n",
    "And now, I check each movie that whether these three actors have participated in.\n",
    "\n",
    "#### Here I apply a scheme that, increment 3, 2, 1 weights to the predictor if this movie contains these top-3 actors respectily (more famous, higher scores). And similar strategy is also applied to the following cases"
   ]
  },
  {
   "cell_type": "markdown",
   "metadata": {},
   "source": [
    "Next I do regression to fit Log_Revenue ~ X_budget_raw + X_budget_zero + X_popular_actor"
   ]
  },
  {
   "cell_type": "code",
   "execution_count": 171,
   "metadata": {},
   "outputs": [],
   "source": [
    "# X_removed['poplar_actor'] = np.where((X_removed['cast'].find(\"Samuel L. Jackson\")!=-1)||(X_removed['cast'].find(\"Robert De Niro\")!=-1)||(X_removed['cast'].find(\"Morgan Freeman\")!=-1), 1, 0)\n",
    "X_popular_actor = np.zeros_like(X_date)\n",
    "for i in range(X_cast.shape[0]):\n",
    "    if((X_cast[i][0].find(\"Samuel L. Jackson\")!=-1)):\n",
    "        X_popular_actor[i]+=3\n",
    "    if((X_cast[i][0].find(\"Robert De Niro\")!=-1)):\n",
    "        X_popular_actor[i]+=2\n",
    "    if((X_cast[i][0].find(\"Morgan Freeman\")!=-1)):\n",
    "        X_popular_actor[i]+=1\n",
    "# X_budget_zero = X_removed['budget_zero'].values.reshape(-1, 1)\n",
    "\n",
    "# form feature matrix\n",
    "X_feature = np.concatenate((X_budget_raw, X_budget_zero, X_popular_actor), axis = 1)"
   ]
  },
  {
   "cell_type": "code",
   "execution_count": 203,
   "metadata": {},
   "outputs": [
    {
     "data": {
      "image/png": "[encoded data removed]",
      "text/plain": [
       "<Figure size 432x288 with 1 Axes>"
      ]
     },
     "metadata": {
      "needs_background": "light"
     },
     "output_type": "display_data"
    },
    {
     "name": "stdout",
     "output_type": "stream",
     "text": [
      "The mean is 0.4459392298826856 and the standard deviation is 0.0781038654888422.\n"
     ]
    },
    {
     "data": {
      "image/png": "[encoded data removed]",
      "text/plain": [
       "<Figure size 432x288 with 1 Axes>"
      ]
     },
     "metadata": {
      "needs_background": "light"
     },
     "output_type": "display_data"
    },
    {
     "name": "stdout",
     "output_type": "stream",
     "text": [
      "The mean is 0.2313520406108622 and the standard deviation is 0.05308473598662646.\n"
     ]
    }
   ],
   "source": [
    "# fit linear regression model\n",
    "\n",
    "score = [0 for i in range(100)]\n",
    "score1 = [0 for i in range(100)]\n",
    "\n",
    "for i in range(100):\n",
    "    #seperate train and test dataset\n",
    "    movies_num = np.shape(X_feature)[0]\n",
    "    order = np.arange(movies_num)\n",
    "    np.random.shuffle(order)\n",
    "    X_train = X_feature[order][:3000]\n",
    "    X_test = X_feature[order][3000:]\n",
    "    y_train = y_revenue_removed.values[order][:3000]\n",
    "    y_test = y_revenue_removed.values[order][3000:]\n",
    "    \n",
    "    #fit model and evalute\n",
    "    reg = GradientBoostingRegressor(random_state=0)\n",
    "    reg.fit(X_train, y_train)\n",
    "    score[i] = reg.score(X_test, y_test)\n",
    "    \n",
    "    #fit model and evalute for redge regression\n",
    "    reg1 =  Ridge(alpha=1.0)\n",
    "    reg1.fit(X_train, y_train)\n",
    "    score1[i] = reg1.score(X_test, y_test)\n",
    "\n",
    "# visualize prediction score\n",
    "fig = plt.figure()  \n",
    "ax = plt.subplot()  \n",
    "ax.boxplot(score)\n",
    "ax.set_xticklabels(['prediction score from linear regression'])\n",
    "plt.show()\n",
    "print(\"The mean is {} and the standard deviation is {}.\".format(np.mean(score), \\\n",
    "                                                                np.sqrt(np.var(score))))\n",
    "\n",
    "\n",
    "# visualize prediction score\n",
    "fig = plt.figure()  \n",
    "ax = plt.subplot()  \n",
    "ax.boxplot(score1)\n",
    "ax.set_xticklabels(['prediction score from linear regression with gradient boosting'])\n",
    "plt.show()\n",
    "print(\"The mean is {} and the standard deviation is {}.\".format(np.mean(score1), \\\n",
    "                                                                np.sqrt(np.var(score1))))"
   ]
  },
  {
   "cell_type": "markdown",
   "metadata": {},
   "source": [
    "Again, results reveals that gradient boosting hold stronger performanec on regession here. And by involving variable of actor, it has been improved further.\n",
    "What's more, varianec is is bit smaller, which means by involving the attendance of popular actor, the regression model can be slight more stable."
   ]
  },
  {
   "cell_type": "code",
   "execution_count": 204,
   "metadata": {},
   "outputs": [
    {
     "data": {
      "image/png": "[encoded data removed]",
      "text/plain": [
       "<Figure size 432x288 with 1 Axes>"
      ]
     },
     "metadata": {
      "needs_background": "light"
     },
     "output_type": "display_data"
    }
   ],
   "source": [
    "##distribution of result of gradient boosting regression\n",
    "mu = np.mean(score)\n",
    "sigma = np.std(score)\n",
    "num = len(score)\n",
    "rand_data = np.random.normal(mu,sigma,num)\n",
    "count, bins, ignored = plt.hist(score, 30, density=True)\n",
    "plt.plot(bins, 1/(sigma * np.sqrt(2 * np.pi)) \\\n",
    "         *np.exp( - (bins - mu)**2 / (2 * sigma**2)), linewidth=2, color='r')\n",
    "plt.show()"
   ]
  },
  {
   "cell_type": "markdown",
   "metadata": {},
   "source": [
    "## 2.3 Involving more predictors: popular keywords, most welcome genres, most famous movie companies, and most successful directors,"
   ]
  },
  {
   "cell_type": "markdown",
   "metadata": {},
   "source": [
    "### 2.3.1 Keywords"
   ]
  },
  {
   "cell_type": "code",
   "execution_count": null,
   "metadata": {},
   "outputs": [],
   "source": [
    "Find three most popular key wirds"
   ]
  },
  {
   "cell_type": "code",
   "execution_count": 174,
   "metadata": {},
   "outputs": [
    {
     "data": {
      "text/plain": [
       "range(0, 3376)"
      ]
     },
     "execution_count": 174,
     "metadata": {},
     "output_type": "execute_result"
    }
   ],
   "source": [
    "X_keywords = X_removed['keywords'].values.reshape(-1, 1)\n",
    "range(X_keywords.shape[0])"
   ]
  },
  {
   "cell_type": "code",
   "execution_count": 175,
   "metadata": {},
   "outputs": [],
   "source": [
    "import re\n",
    "\n",
    "keys=[]\n",
    "# type(X_cast[0][0][names[0]+9:orders[0]])\n",
    "for j in range(X_keywords.shape[0]):\n",
    "    keywords = [substr.start() for substr in re.finditer(\"\\\"name\\\": \\\"\", X_keywords[j][0])]\n",
    "    ends = [substr.start() for substr in re.finditer(\"\\\"}\", X_keywords[j][0])]\n",
    "#     print(ends)\n",
    "    for i in range(len(keywords)):\n",
    "        keywords[i] = X_keywords[j][0][keywords[i]+9:ends[i]]\n",
    "    keys.extend(keywords)\n",
    "# plt.hist(cast)"
   ]
  },
  {
   "cell_type": "code",
   "execution_count": 176,
   "metadata": {},
   "outputs": [
    {
     "data": {
      "text/plain": [
       "[('duringcreditsstinger', 278),\n",
       " ('woman director', 185),\n",
       " ('based on novel', 179)]"
      ]
     },
     "execution_count": 176,
     "metadata": {},
     "output_type": "execute_result"
    }
   ],
   "source": [
    "from collections import Counter\n",
    "\n",
    "data = Counter(keys)\n",
    "# data.most_common(1)[0][0]\n",
    "data.most_common(3)"
   ]
  },
  {
   "cell_type": "markdown",
   "metadata": {},
   "source": [
    "\"duringcreditsstinger\", \"woman director\", \"based on novel\" as most frequent keywords"
   ]
  },
  {
   "cell_type": "code",
   "execution_count": 177,
   "metadata": {},
   "outputs": [],
   "source": [
    "X_popular_keywords = np.zeros_like(X_date)\n",
    "for i in range(X_cast.shape[0]):\n",
    "    if((X_keywords[i][0].find(\"duringcreditsstinger\")!=-1)):\n",
    "        X_popular_keywords[i]+=3\n",
    "    if((X_keywords[i][0].find(\"woman director\")!=-1)):\n",
    "        X_popular_keywords[i]+=2\n",
    "    if((X_keywords[i][0].find(\"based on nove\")!=-1)):\n",
    "        X_popular_keywords[i]+=1"
   ]
  },
  {
   "cell_type": "markdown",
   "metadata": {},
   "source": [
    "### 2.3.2 Genres"
   ]
  },
  {
   "cell_type": "code",
   "execution_count": null,
   "metadata": {},
   "outputs": [],
   "source": [
    "Find three most welcome genres"
   ]
  },
  {
   "cell_type": "code",
   "execution_count": 178,
   "metadata": {},
   "outputs": [
    {
     "data": {
      "text/plain": [
       "range(0, 3376)"
      ]
     },
     "execution_count": 178,
     "metadata": {},
     "output_type": "execute_result"
    }
   ],
   "source": [
    "X_genres = X_removed['genres'].values.reshape(-1, 1)\n",
    "range(X_genres.shape[0])"
   ]
  },
  {
   "cell_type": "code",
   "execution_count": 179,
   "metadata": {},
   "outputs": [],
   "source": [
    "gen=[]\n",
    "# type(X_cast[0][0][names[0]+9:orders[0]])\n",
    "for j in range(X_genres.shape[0]):\n",
    "    genres = [substr.start() for substr in re.finditer(\"\\\"name\\\": \\\"\", X_genres[j][0])]\n",
    "    ends = [substr.start() for substr in re.finditer(\"\\\"}\", X_genres[j][0])]\n",
    "#     print(ends)\n",
    "    for i in range(len(genres)):\n",
    "        genres[i] = X_genres[j][0][genres[i]+9:ends[i]]\n",
    "    gen.extend(genres)\n",
    "# plt.hist(cast)"
   ]
  },
  {
   "cell_type": "code",
   "execution_count": 180,
   "metadata": {},
   "outputs": [
    {
     "data": {
      "text/plain": [
       "[('Drama', 1527), ('Comedy', 1174), ('Thriller', 959)]"
      ]
     },
     "execution_count": 180,
     "metadata": {},
     "output_type": "execute_result"
    }
   ],
   "source": [
    "from collections import Counter\n",
    "\n",
    "data = Counter(gen)\n",
    "# data.most_common(1)[0][0]\n",
    "data.most_common(3)"
   ]
  },
  {
   "cell_type": "markdown",
   "metadata": {},
   "source": [
    "\"Drama\", \"Comedy\", \"Thriller\" as most frequent genres"
   ]
  },
  {
   "cell_type": "code",
   "execution_count": 181,
   "metadata": {},
   "outputs": [],
   "source": [
    "X_popular_genres = np.zeros_like(X_date)\n",
    "for i in range(X_cast.shape[0]):\n",
    "    if((X_genres[i][0].find(\"Drama\")!=-1)):\n",
    "        X_popular_genres[i]+=3\n",
    "    if((X_genres[i][0].find(\"Comedy\")!=-1)):\n",
    "        X_popular_genres[i]+=2\n",
    "    if((X_genres[i][0].find(\"Thriller\")!=-1)):\n",
    "        X_popular_genres[i]+=1"
   ]
  },
  {
   "cell_type": "markdown",
   "metadata": {},
   "source": [
    "### 2.3.4 Companies"
   ]
  },
  {
   "cell_type": "markdown",
   "metadata": {},
   "source": [
    "Find three most productive movie companies"
   ]
  },
  {
   "cell_type": "code",
   "execution_count": 182,
   "metadata": {},
   "outputs": [
    {
     "data": {
      "text/plain": [
       "range(0, 3376)"
      ]
     },
     "execution_count": 182,
     "metadata": {},
     "output_type": "execute_result"
    }
   ],
   "source": [
    "X_companies = X_removed['production_companies'].values.reshape(-1, 1)\n",
    "range(X_companies.shape[0])"
   ]
  },
  {
   "cell_type": "code",
   "execution_count": 183,
   "metadata": {},
   "outputs": [],
   "source": [
    "comp=[]\n",
    "# type(X_cast[0][0][names[0]+9:orders[0]])\n",
    "for j in range(X_companies.shape[0]):\n",
    "    company = [substr.start() for substr in re.finditer(\"\\\"name\\\": \\\"\", X_companies[j][0])]\n",
    "    ends = [substr.start() for substr in re.finditer(\"\\\", \\\"id\\\":\", X_companies[j][0])]\n",
    "#     print(ends)\n",
    "    for i in range(len(company)):\n",
    "        company[i] = X_companies[j][0][company[i]+9:ends[i]]\n",
    "    comp.extend(company)\n",
    "# plt.hist(cast)"
   ]
  },
  {
   "cell_type": "code",
   "execution_count": 184,
   "metadata": {},
   "outputs": [
    {
     "data": {
      "text/plain": [
       "[('Warner Bros.', 285),\n",
       " ('Universal Pictures', 276),\n",
       " ('Paramount Pictures', 251)]"
      ]
     },
     "execution_count": 184,
     "metadata": {},
     "output_type": "execute_result"
    }
   ],
   "source": [
    "from collections import Counter\n",
    "\n",
    "data = Counter(comp)\n",
    "# data.most_common(1)[0][0]\n",
    "data.most_common(3)"
   ]
  },
  {
   "cell_type": "markdown",
   "metadata": {},
   "source": [
    "\"Warner Bros.\", \"Universal Pictures\", \"Paramount Pictures\" as most frequent genres"
   ]
  },
  {
   "cell_type": "code",
   "execution_count": 185,
   "metadata": {},
   "outputs": [],
   "source": [
    "X_popular_companies = np.zeros_like(X_date)\n",
    "for i in range(X_cast.shape[0]):\n",
    "    if((X_companies[i][0].find(\"Warner Bros.\")!=-1)):\n",
    "        X_popular_companies[i]+=3\n",
    "    if((X_companies[i][0].find(\"Universal Pictures\")!=-1)):\n",
    "        X_popular_companies[i]+=2\n",
    "    if((X_companies[i][0].find(\"Paramount Pictures\")!=-1)):\n",
    "        X_popular_companies[i]+=1"
   ]
  },
  {
   "cell_type": "markdown",
   "metadata": {},
   "source": [
    "### 2.3.5 Directors"
   ]
  },
  {
   "cell_type": "markdown",
   "metadata": {},
   "source": [
    "Find three most outstanding directors"
   ]
  },
  {
   "cell_type": "code",
   "execution_count": 186,
   "metadata": {},
   "outputs": [
    {
     "data": {
      "text/plain": [
       "range(0, 3376)"
      ]
     },
     "execution_count": 186,
     "metadata": {},
     "output_type": "execute_result"
    }
   ],
   "source": [
    "X_director = X_removed['crew'].values.reshape(-1, 1)\n",
    "range(X_director.shape[0])"
   ]
  },
  {
   "cell_type": "code",
   "execution_count": 187,
   "metadata": {},
   "outputs": [],
   "source": [
    "dire=[]\n",
    "# type(X_cast[0][0][names[0]+9:orders[0]])\n",
    "for j in range(X_director.shape[0]):\n",
    "    job = [substr.start() for substr in re.finditer(\"\\\"job\\\": \\\"\", X_director[j][0])]\n",
    "    ends = [substr.start() for substr in re.finditer(\"\\\", \\\"name\\\"\", X_director[j][0])]\n",
    "#     print(ends)\n",
    "    for i in range(len(job)):\n",
    "        job[i] = X_director[j][0][job[i]+8:ends[i]]\n",
    "    dire.extend(job)\n",
    "# plt.hist(cast)\n",
    "# dire\n",
    "cast=[]\n",
    "# type(X_cast[0][0][names[0]+9:orders[0]])\n",
    "for j in range(X_director.shape[0]):\n",
    "    name = [substr.start() for substr in re.finditer(\"\\\"name\\\": \\\"\", X_director[j][0])]\n",
    "    ends = [substr.start() for substr in re.finditer(\"\\\"}\", X_director[j][0])]\n",
    "#     print(ends)\n",
    "    for i in range(len(name)):\n",
    "        name[i] = X_director[j][0][name[i]+9:ends[i]]\n",
    "    cast.extend(name)\n",
    "\n",
    "directors=[]\n",
    "for i in range(len(dire)):\n",
    "    if dire[i]==\"Director\":\n",
    "        directors.append(cast[i])"
   ]
  },
  {
   "cell_type": "code",
   "execution_count": 188,
   "metadata": {},
   "outputs": [
    {
     "data": {
      "text/plain": [
       "[('Steven Spielberg', 27), ('Clint Eastwood', 20), ('Martin Scorsese', 17)]"
      ]
     },
     "execution_count": 188,
     "metadata": {},
     "output_type": "execute_result"
    }
   ],
   "source": [
    "from collections import Counter\n",
    "\n",
    "data = Counter(directors)\n",
    "# data.most_common(1)[0][0]\n",
    "data.most_common(3)"
   ]
  },
  {
   "cell_type": "code",
   "execution_count": 189,
   "metadata": {},
   "outputs": [],
   "source": [
    "X_popular_directors = np.zeros_like(X_date)\n",
    "for i in range(X_cast.shape[0]):\n",
    "    if((X_director[i][0].find(\"Steven Spielberg\")!=-1)):\n",
    "        X_popular_directors[i]+=3\n",
    "    if((X_director[i][0].find(\"Clint Eastwood\")!=-1)):\n",
    "        X_popular_directors[i]+=2\n",
    "    if((X_director[i][0].find(\"Martin Scorsese\")!=-1)):\n",
    "        X_popular_directors[i]+=1"
   ]
  },
  {
   "cell_type": "code",
   "execution_count": 249,
   "metadata": {},
   "outputs": [
    {
     "data": {
      "text/plain": [
       "(array([3.231e+03, 0.000e+00, 4.400e+01, 0.000e+00, 4.600e+01, 0.000e+00,\n",
       "        5.300e+01, 0.000e+00, 0.000e+00, 2.000e+00]),\n",
       " array([0. , 0.5, 1. , 1.5, 2. , 2.5, 3. , 3.5, 4. , 4.5, 5. ]),\n",
       " <a list of 10 Patch objects>)"
      ]
     },
     "execution_count": 249,
     "metadata": {},
     "output_type": "execute_result"
    },
    {
     "data": {
      "image/png": "[encoded data removed]",
      "text/plain": [
       "<Figure size 432x288 with 1 Axes>"
      ]
     },
     "metadata": {
      "needs_background": "light"
     },
     "output_type": "display_data"
    }
   ],
   "source": [
    "plt.hist(X_popular_actor)"
   ]
  },
  {
   "cell_type": "code",
   "execution_count": 250,
   "metadata": {},
   "outputs": [
    {
     "data": {
      "text/plain": [
       "(array([2769.,    0.,  160.,    0.,  159.,    0.,  263.,    0.,    9.,\n",
       "          16.]),\n",
       " array([0. , 0.5, 1. , 1.5, 2. , 2.5, 3. , 3.5, 4. , 4.5, 5. ]),\n",
       " <a list of 10 Patch objects>)"
      ]
     },
     "execution_count": 250,
     "metadata": {},
     "output_type": "execute_result"
    },
    {
     "data": {
      "image/png": "[encoded data removed]",
      "text/plain": [
       "<Figure size 432x288 with 1 Axes>"
      ]
     },
     "metadata": {
      "needs_background": "light"
     },
     "output_type": "display_data"
    }
   ],
   "source": [
    "plt.hist(X_popular_keywords)"
   ]
  },
  {
   "cell_type": "code",
   "execution_count": 251,
   "metadata": {},
   "outputs": [
    {
     "data": {
      "text/plain": [
       "(array([523., 500.,   0., 767.,   0., 847., 391.,   0., 339.,   9.]),\n",
       " array([0. , 0.6, 1.2, 1.8, 2.4, 3. , 3.6, 4.2, 4.8, 5.4, 6. ]),\n",
       " <a list of 10 Patch objects>)"
      ]
     },
     "execution_count": 251,
     "metadata": {},
     "output_type": "execute_result"
    },
    {
     "data": {
      "image/png": "[encoded data removed]",
      "text/plain": [
       "<Figure size 432x288 with 1 Axes>"
      ]
     },
     "metadata": {
      "needs_background": "light"
     },
     "output_type": "display_data"
    }
   ],
   "source": [
    "plt.hist(X_popular_genres)"
   ]
  },
  {
   "cell_type": "code",
   "execution_count": 252,
   "metadata": {},
   "outputs": [
    {
     "data": {
      "text/plain": [
       "(array([2.56e+03, 0.00e+00, 2.41e+02, 0.00e+00, 2.72e+02, 0.00e+00,\n",
       "        2.97e+02, 0.00e+00, 5.00e+00, 1.00e+00]),\n",
       " array([0. , 0.5, 1. , 1.5, 2. , 2.5, 3. , 3.5, 4. , 4.5, 5. ]),\n",
       " <a list of 10 Patch objects>)"
      ]
     },
     "execution_count": 252,
     "metadata": {},
     "output_type": "execute_result"
    },
    {
     "data": {
      "image/png": "[encoded data removed]",
      "text/plain": [
       "<Figure size 432x288 with 1 Axes>"
      ]
     },
     "metadata": {
      "needs_background": "light"
     },
     "output_type": "display_data"
    }
   ],
   "source": [
    "plt.hist(X_popular_companies)"
   ]
  },
  {
   "cell_type": "code",
   "execution_count": 253,
   "metadata": {},
   "outputs": [
    {
     "data": {
      "text/plain": [
       "(array([3.275e+03, 0.000e+00, 1.800e+01, 0.000e+00, 1.900e+01, 0.000e+00,\n",
       "        6.100e+01, 0.000e+00, 1.000e+00, 2.000e+00]),\n",
       " array([0. , 0.5, 1. , 1.5, 2. , 2.5, 3. , 3.5, 4. , 4.5, 5. ]),\n",
       " <a list of 10 Patch objects>)"
      ]
     },
     "execution_count": 253,
     "metadata": {},
     "output_type": "execute_result"
    },
    {
     "data": {
      "image/png": "[encoded data removed]",
      "text/plain": [
       "<Figure size 432x288 with 1 Axes>"
      ]
     },
     "metadata": {
      "needs_background": "light"
     },
     "output_type": "display_data"
    }
   ],
   "source": [
    "plt.hist(X_popular_directors)"
   ]
  },
  {
   "cell_type": "markdown",
   "metadata": {},
   "source": [
    "## 2.4 Do more comprehensive regression by using above predictors "
   ]
  },
  {
   "cell_type": "markdown",
   "metadata": {},
   "source": [
    "### 2.4.1 Log Revenue ~ Budge + Release_year + Company + Actor^2 + Keywords + Director"
   ]
  },
  {
   "cell_type": "code",
   "execution_count": 224,
   "metadata": {},
   "outputs": [
    {
     "data": {
      "image/png": "[encoded data removed]",
      "text/plain": [
       "<Figure size 432x288 with 1 Axes>"
      ]
     },
     "metadata": {
      "needs_background": "light"
     },
     "output_type": "display_data"
    },
    {
     "name": "stdout",
     "output_type": "stream",
     "text": [
      "The mean is 0.45553432421978884 and the standard deviation is 0.04933400567925004.\n"
     ]
    },
    {
     "data": {
      "image/png": "[encoded data removed]",
      "text/plain": [
       "<Figure size 432x288 with 1 Axes>"
      ]
     },
     "metadata": {
      "needs_background": "light"
     },
     "output_type": "display_data"
    },
    {
     "name": "stdout",
     "output_type": "stream",
     "text": [
      "The mean is 0.24091736209917847 and the standard deviation is 0.0434401651252636.\n"
     ]
    }
   ],
   "source": [
    "X_feature = np.concatenate((X_budget_raw, X_year, X_popular_companies, X_popular_actor*X_popular_actor, X_popular_keywords, X_popular_directors), axis = 1)\n",
    "# X_budget_zero X_popular_genres\n",
    "score = [0 for i in range(100)]\n",
    "for i in range(100):\n",
    "    #seperate train and test dataset\n",
    "    movies_num = np.shape(X_feature)[0]\n",
    "    order = np.arange(movies_num)\n",
    "    np.random.shuffle(order)\n",
    "    X_train = X_feature[order][:3000]\n",
    "    X_test = X_feature[order][3000:]\n",
    "    y_train = y_revenue_removed.values[order][:3000]\n",
    "    y_test = y_revenue_removed.values[order][3000:]\n",
    "    \n",
    "    #fit model and evalute\n",
    "    reg = GradientBoostingRegressor(random_state=1, learning_rate=5e-2)\n",
    "    reg.fit(X_train, y_train)\n",
    "    score[i] = reg.score(X_test, y_test)\n",
    "    \n",
    "    #fit model and evalute for redge regression\n",
    "    reg1 =  Ridge(alpha=1.0)\n",
    "    reg1.fit(X_train, y_train)\n",
    "    score1[i] = reg1.score(X_test, y_test)\n",
    "\n",
    "# visualize prediction score\n",
    "fig = plt.figure()  \n",
    "ax = plt.subplot()  \n",
    "ax.boxplot(score)\n",
    "ax.set_xticklabels(['prediction score from linear regression'])\n",
    "plt.show()\n",
    "print(\"The mean is {} and the standard deviation is {}.\".format(np.mean(score), \\\n",
    "                                                                np.sqrt(np.var(score))))\n",
    "\n",
    "# visualize prediction score\n",
    "fig = plt.figure()  \n",
    "ax = plt.subplot()  \n",
    "ax.boxplot(score1)\n",
    "ax.set_xticklabels(['prediction score from linear regression with gradient boosting'])\n",
    "plt.show()\n",
    "print(\"The mean is {} and the standard deviation is {}.\".format(np.mean(score1), \\\n",
    "                                                                np.sqrt(np.var(score1))))"
   ]
  },
  {
   "cell_type": "code",
   "execution_count": 225,
   "metadata": {},
   "outputs": [
    {
     "data": {
      "image/png": "[encoded data removed]",
      "text/plain": [
       "<Figure size 432x288 with 1 Axes>"
      ]
     },
     "metadata": {
      "needs_background": "light"
     },
     "output_type": "display_data"
    }
   ],
   "source": [
    "mu = np.mean(score)\n",
    "sigma = np.std(score)\n",
    "num = len(score)\n",
    "rand_data = np.random.normal(mu,sigma,num)\n",
    "count, bins, ignored = plt.hist(score, 30, density=True)\n",
    "plt.plot(bins, 1/(sigma * np.sqrt(2 * np.pi)) \\\n",
    "         *np.exp( - (bins - mu)**2 / (2 * sigma**2)), linewidth=2, color='r')\n",
    "plt.show()"
   ]
  },
  {
   "cell_type": "markdown",
   "metadata": {},
   "source": [
    "By tuning the parameters,I get a better performed linear model with gradient boosting regression, which can reach 0.456 appriximately (in my trails).\n",
    "This linear model is fitted with predictors: Budge + Release_year + Company + Actor^2 + Keywords + Director. Here I take Actor as squre because I noticed that involving of actor can boost the model more than other variables, so I set a heavier weight to actor. More realistcly, this implies that popular actors/ movie stars can signigicantly affect the quality of a movie."
   ]
  },
  {
   "cell_type": "markdown",
   "metadata": {},
   "source": [
    "### 2.4.2 Log Revenue ~ Budge + Release_year + 2*Company + Actor^2  + Director^2"
   ]
  },
  {
   "cell_type": "code",
   "execution_count": 229,
   "metadata": {},
   "outputs": [
    {
     "data": {
      "image/png": "[encoded data removed]",
      "text/plain": [
       "<Figure size 432x288 with 1 Axes>"
      ]
     },
     "metadata": {
      "needs_background": "light"
     },
     "output_type": "display_data"
    },
    {
     "name": "stdout",
     "output_type": "stream",
     "text": [
      "The mean is 0.455357326880977 and the standard deviation is 0.05449597872027368.\n"
     ]
    },
    {
     "data": {
      "image/png": "[encoded data removed]",
      "text/plain": [
       "<Figure size 432x288 with 1 Axes>"
      ]
     },
     "metadata": {
      "needs_background": "light"
     },
     "output_type": "display_data"
    },
    {
     "name": "stdout",
     "output_type": "stream",
     "text": [
      "The mean is 0.23572808506420664 and the standard deviation is 0.048155938390275904.\n"
     ]
    }
   ],
   "source": [
    "X_feature = np.concatenate((X_budget_raw, X_year, 2*X_popular_companies, X_popular_actor*X_popular_actor, X_popular_directors*X_popular_directors), axis = 1)\n",
    "# X_budget_zero X_popular_genres\n",
    "score = [0 for i in range(100)]\n",
    "for i in range(100):\n",
    "    #seperate train and test dataset\n",
    "    movies_num = np.shape(X_feature)[0]\n",
    "    order = np.arange(movies_num)\n",
    "    np.random.shuffle(order)\n",
    "    X_train = X_feature[order][:3000]\n",
    "    X_test = X_feature[order][3000:]\n",
    "    y_train = y_revenue_removed.values[order][:3000]\n",
    "    y_test = y_revenue_removed.values[order][3000:]\n",
    "    \n",
    "    #fit model and evalute\n",
    "    reg = GradientBoostingRegressor(random_state=1, learning_rate=5e-2)\n",
    "    reg.fit(X_train, y_train)\n",
    "    score[i] = reg.score(X_test, y_test)\n",
    "    \n",
    "    #fit model and evalute for redge regression\n",
    "    reg1 =  Ridge(alpha=1.0)\n",
    "    reg1.fit(X_train, y_train)\n",
    "    score1[i] = reg1.score(X_test, y_test)\n",
    "\n",
    "# visualize prediction score\n",
    "fig = plt.figure()  \n",
    "ax = plt.subplot()  \n",
    "ax.boxplot(score)\n",
    "ax.set_xticklabels(['prediction score from linear regression'])\n",
    "plt.show()\n",
    "print(\"The mean is {} and the standard deviation is {}.\".format(np.mean(score), \\\n",
    "                                                                np.sqrt(np.var(score))))\n",
    "\n",
    "# visualize prediction score\n",
    "fig = plt.figure()  \n",
    "ax = plt.subplot()  \n",
    "ax.boxplot(score1)\n",
    "ax.set_xticklabels(['prediction score from linear regression with gradient boosting'])\n",
    "plt.show()\n",
    "print(\"The mean is {} and the standard deviation is {}.\".format(np.mean(score1), \\\n",
    "                                                                np.sqrt(np.var(score1))))"
   ]
  },
  {
   "cell_type": "code",
   "execution_count": 230,
   "metadata": {},
   "outputs": [
    {
     "data": {
      "image/png": "[encoded data removed]",
      "text/plain": [
       "<Figure size 432x288 with 1 Axes>"
      ]
     },
     "metadata": {
      "needs_background": "light"
     },
     "output_type": "display_data"
    }
   ],
   "source": [
    "mu = np.mean(score)\n",
    "sigma = np.std(score)\n",
    "num = len(score)\n",
    "rand_data = np.random.normal(mu,sigma,num)\n",
    "count, bins, ignored = plt.hist(score, 30, density=True)\n",
    "plt.plot(bins, 1/(sigma * np.sqrt(2 * np.pi)) \\\n",
    "         *np.exp( - (bins - mu)**2 / (2 * sigma**2)), linewidth=2, color='r')\n",
    "plt.show()"
   ]
  },
  {
   "cell_type": "markdown",
   "metadata": {},
   "source": [
    "This time I increased the weight of director by taking square and slightly increased the weight of company by doubling. Result shows generally good similar to previous scheme. Note the doubling the variable of company means increase the scale of company's value, and this would increase its contribution to the model but would not affect its linearity."
   ]
  },
  {
   "cell_type": "markdown",
   "metadata": {},
   "source": [
    "### 2.4.2 Log Revenue ~ Budge + Release_year + 2*Company + Actor * Director"
   ]
  },
  {
   "cell_type": "code",
   "execution_count": 239,
   "metadata": {},
   "outputs": [
    {
     "data": {
      "image/png": "[encoded data removed]",
      "text/plain": [
       "<Figure size 432x288 with 1 Axes>"
      ]
     },
     "metadata": {
      "needs_background": "light"
     },
     "output_type": "display_data"
    },
    {
     "name": "stdout",
     "output_type": "stream",
     "text": [
      "The mean is 0.4614874235777947 and the standard deviation is 0.05535067457615199.\n"
     ]
    },
    {
     "data": {
      "image/png": "[encoded data removed]",
      "text/plain": [
       "<Figure size 432x288 with 1 Axes>"
      ]
     },
     "metadata": {
      "needs_background": "light"
     },
     "output_type": "display_data"
    },
    {
     "name": "stdout",
     "output_type": "stream",
     "text": [
      "The mean is 0.2311922277582692 and the standard deviation is 0.05160550172852028.\n"
     ]
    }
   ],
   "source": [
    "X_feature = np.concatenate((X_budget_raw, X_year, 2*X_popular_companies, X_popular_actor*X_popular_directors), axis = 1)\n",
    "# X_budget_zero X_popular_genres\n",
    "score = [0 for i in range(100)]\n",
    "for i in range(100):\n",
    "    #seperate train and test dataset\n",
    "    movies_num = np.shape(X_feature)[0]\n",
    "    order = np.arange(movies_num)\n",
    "    np.random.shuffle(order)\n",
    "    X_train = X_feature[order][:3000]\n",
    "    X_test = X_feature[order][3000:]\n",
    "    y_train = y_revenue_removed.values[order][:3000]\n",
    "    y_test = y_revenue_removed.values[order][3000:]\n",
    "    \n",
    "    #fit model and evalute\n",
    "    reg = GradientBoostingRegressor(random_state=1, learning_rate=5e-2)\n",
    "    reg.fit(X_train, y_train)\n",
    "    score[i] = reg.score(X_test, y_test)\n",
    "    \n",
    "    #fit model and evalute for redge regression\n",
    "    reg1 =  Ridge(alpha=1.0)\n",
    "    reg1.fit(X_train, y_train)\n",
    "    score1[i] = reg1.score(X_test, y_test)\n",
    "\n",
    "# visualize prediction score\n",
    "fig = plt.figure()  \n",
    "ax = plt.subplot()  \n",
    "ax.boxplot(score)\n",
    "ax.set_xticklabels(['prediction score from linear regression'])\n",
    "plt.show()\n",
    "print(\"The mean is {} and the standard deviation is {}.\".format(np.mean(score), \\\n",
    "                                                                np.sqrt(np.var(score))))\n",
    "\n",
    "# visualize prediction score\n",
    "fig = plt.figure()  \n",
    "ax = plt.subplot()  \n",
    "ax.boxplot(score1)\n",
    "ax.set_xticklabels(['prediction score from linear regression with gradient boosting'])\n",
    "plt.show()\n",
    "print(\"The mean is {} and the standard deviation is {}.\".format(np.mean(score1), \\\n",
    "                                                                np.sqrt(np.var(score1))))"
   ]
  },
  {
   "cell_type": "markdown",
   "metadata": {},
   "source": [
    "In considering the previous schemes, I come up with a model Log Revenue ~ Budge + Release_year + 2*Company + Actor * Director"
   ]
  },
  {
   "cell_type": "markdown",
   "metadata": {},
   "source": [
    "This is in considering that actor and director are significant in predicion, so I multiply them together as a predictor. This improves the performance to 0.461 apprimately (in my trails)"
   ]
  },
  {
   "cell_type": "markdown",
   "metadata": {},
   "source": [
    "## Conclusion"
   ]
  },
  {
   "cell_type": "markdown",
   "metadata": {},
   "source": [
    "According to experiment above, I notice that best fit model appear in cosidering the budget, release year, doubled company, and (popular actors)mulitplies(popular directors) by using Gradient Boosting Regression\n",
    "Above all, this report started from base line of the linear model, traversed ridge and gradient boosting regression. And figure out gradient would immediately improve the performance of the prediction, and ridge regression would only improve after involving zero indicators of budgts.\n",
    "Then I explored the data set and extracted releasing year and most famous actors, directors, genres, companies, keywords as features to involve more variables into the prediction. By traversing and trails, I figured out that actors and directors and comparably important predictors to the model. Then I considered the synergy effect and tied non-linear effect of these two factors. Results shows that this indeed strenthen the model.\n",
    "Then I inspect these models in a more realistic and holistic perspective. The result tell us that, the quantity of a movie would be significantly affected by it's actors and director. Movie stars and famous directors often affects a moive's reflection in the market powerfully. Except for these, releasing time and releasing company, etc. afftects the movies as well but in a smaller extend. And all these is consistent with our intuition in real-world life."
   ]
  },
  {
   "cell_type": "code",
   "execution_count": null,
   "metadata": {},
   "outputs": [],
   "source": []
  }
 ],
 "metadata": {
  "kernelspec": {
   "display_name": "Python 3",
   "language": "python",
   "name": "python3"
  },
  "language_info": {
   "codemirror_mode": {
    "name": "ipython",
    "version": 3
   },
   "file_extension": ".py",
   "mimetype": "text/x-python",
   "name": "python",
   "nbconvert_exporter": "python",
   "pygments_lexer": "ipython3",
   "version": "3.6.6"
  }
 },
 "nbformat": 4,
 "nbformat_minor": 2
}
